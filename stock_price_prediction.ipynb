{
  "nbformat": 4,
  "nbformat_minor": 0,
  "metadata": {
    "colab": {
      "name": "stock_price_prediction.ipynb",
      "provenance": [],
      "authorship_tag": "ABX9TyP/2YTjnPrdcKT9FX2yFWAs",
      "include_colab_link": true
    },
    "kernelspec": {
      "name": "python3",
      "display_name": "Python 3"
    }
  },
  "cells": [
    {
      "cell_type": "markdown",
      "metadata": {
        "id": "view-in-github",
        "colab_type": "text"
      },
      "source": [
        "<a href=\"https://colab.research.google.com/github/saurabhsingh1411/stock_price_prediction_rnn/blob/master/stock_price_prediction.ipynb\" target=\"_parent\"><img src=\"https://colab.research.google.com/assets/colab-badge.svg\" alt=\"Open In Colab\"/></a>"
      ]
    },
    {
      "cell_type": "markdown",
      "metadata": {
        "id": "TLxjbqiCch-b"
      },
      "source": [
        "## Importing lib and dataset"
      ]
    },
    {
      "cell_type": "code",
      "metadata": {
        "id": "3IdFxQ0IarFu"
      },
      "source": [
        "import numpy as np\n",
        "import pandas as pd\n",
        "import matplotlib.pyplot as plt\n"
      ],
      "execution_count": 1,
      "outputs": []
    },
    {
      "cell_type": "code",
      "metadata": {
        "id": "roTxnW1AcoOO"
      },
      "source": [
        "dataset_train=pd.read_csv('trainset.csv')\n"
      ],
      "execution_count": 2,
      "outputs": []
    },
    {
      "cell_type": "code",
      "metadata": {
        "id": "Vy7LEcUtczdO",
        "outputId": "7c41befc-a045-409f-b865-0fde8bd6fe05",
        "colab": {
          "base_uri": "https://localhost:8080/",
          "height": 204
        }
      },
      "source": [
        "dataset_train.head()"
      ],
      "execution_count": 3,
      "outputs": [
        {
          "output_type": "execute_result",
          "data": {
            "text/html": [
              "<div>\n",
              "<style scoped>\n",
              "    .dataframe tbody tr th:only-of-type {\n",
              "        vertical-align: middle;\n",
              "    }\n",
              "\n",
              "    .dataframe tbody tr th {\n",
              "        vertical-align: top;\n",
              "    }\n",
              "\n",
              "    .dataframe thead th {\n",
              "        text-align: right;\n",
              "    }\n",
              "</style>\n",
              "<table border=\"1\" class=\"dataframe\">\n",
              "  <thead>\n",
              "    <tr style=\"text-align: right;\">\n",
              "      <th></th>\n",
              "      <th>Date</th>\n",
              "      <th>Open</th>\n",
              "      <th>High</th>\n",
              "      <th>Low</th>\n",
              "      <th>Close</th>\n",
              "      <th>Adj Close</th>\n",
              "      <th>Volume</th>\n",
              "    </tr>\n",
              "  </thead>\n",
              "  <tbody>\n",
              "    <tr>\n",
              "      <th>0</th>\n",
              "      <td>2013-01-02</td>\n",
              "      <td>357.385559</td>\n",
              "      <td>361.151062</td>\n",
              "      <td>355.959839</td>\n",
              "      <td>359.288177</td>\n",
              "      <td>359.288177</td>\n",
              "      <td>5115500</td>\n",
              "    </tr>\n",
              "    <tr>\n",
              "      <th>1</th>\n",
              "      <td>2013-01-03</td>\n",
              "      <td>360.122742</td>\n",
              "      <td>363.600128</td>\n",
              "      <td>358.031342</td>\n",
              "      <td>359.496826</td>\n",
              "      <td>359.496826</td>\n",
              "      <td>4666500</td>\n",
              "    </tr>\n",
              "    <tr>\n",
              "      <th>2</th>\n",
              "      <td>2013-01-04</td>\n",
              "      <td>362.313507</td>\n",
              "      <td>368.339294</td>\n",
              "      <td>361.488861</td>\n",
              "      <td>366.600616</td>\n",
              "      <td>366.600616</td>\n",
              "      <td>5562800</td>\n",
              "    </tr>\n",
              "    <tr>\n",
              "      <th>3</th>\n",
              "      <td>2013-01-07</td>\n",
              "      <td>365.348755</td>\n",
              "      <td>367.301056</td>\n",
              "      <td>362.929504</td>\n",
              "      <td>365.001007</td>\n",
              "      <td>365.001007</td>\n",
              "      <td>3332900</td>\n",
              "    </tr>\n",
              "    <tr>\n",
              "      <th>4</th>\n",
              "      <td>2013-01-08</td>\n",
              "      <td>365.393463</td>\n",
              "      <td>365.771027</td>\n",
              "      <td>359.874359</td>\n",
              "      <td>364.280701</td>\n",
              "      <td>364.280701</td>\n",
              "      <td>3373900</td>\n",
              "    </tr>\n",
              "  </tbody>\n",
              "</table>\n",
              "</div>"
            ],
            "text/plain": [
              "         Date        Open        High  ...       Close   Adj Close   Volume\n",
              "0  2013-01-02  357.385559  361.151062  ...  359.288177  359.288177  5115500\n",
              "1  2013-01-03  360.122742  363.600128  ...  359.496826  359.496826  4666500\n",
              "2  2013-01-04  362.313507  368.339294  ...  366.600616  366.600616  5562800\n",
              "3  2013-01-07  365.348755  367.301056  ...  365.001007  365.001007  3332900\n",
              "4  2013-01-08  365.393463  365.771027  ...  364.280701  364.280701  3373900\n",
              "\n",
              "[5 rows x 7 columns]"
            ]
          },
          "metadata": {
            "tags": []
          },
          "execution_count": 3
        }
      ]
    },
    {
      "cell_type": "code",
      "metadata": {
        "id": "sB02FdhMc0OJ"
      },
      "source": [
        "trainset=dataset_train.iloc[:,1:2]"
      ],
      "execution_count": 4,
      "outputs": []
    },
    {
      "cell_type": "code",
      "metadata": {
        "id": "zGNKofN5c0UH",
        "outputId": "e512b582-819f-46ba-c571-ca1aefc400b5",
        "colab": {
          "base_uri": "https://localhost:8080/",
          "height": 204
        }
      },
      "source": [
        "trainset.head()"
      ],
      "execution_count": 5,
      "outputs": [
        {
          "output_type": "execute_result",
          "data": {
            "text/html": [
              "<div>\n",
              "<style scoped>\n",
              "    .dataframe tbody tr th:only-of-type {\n",
              "        vertical-align: middle;\n",
              "    }\n",
              "\n",
              "    .dataframe tbody tr th {\n",
              "        vertical-align: top;\n",
              "    }\n",
              "\n",
              "    .dataframe thead th {\n",
              "        text-align: right;\n",
              "    }\n",
              "</style>\n",
              "<table border=\"1\" class=\"dataframe\">\n",
              "  <thead>\n",
              "    <tr style=\"text-align: right;\">\n",
              "      <th></th>\n",
              "      <th>Open</th>\n",
              "    </tr>\n",
              "  </thead>\n",
              "  <tbody>\n",
              "    <tr>\n",
              "      <th>0</th>\n",
              "      <td>357.385559</td>\n",
              "    </tr>\n",
              "    <tr>\n",
              "      <th>1</th>\n",
              "      <td>360.122742</td>\n",
              "    </tr>\n",
              "    <tr>\n",
              "      <th>2</th>\n",
              "      <td>362.313507</td>\n",
              "    </tr>\n",
              "    <tr>\n",
              "      <th>3</th>\n",
              "      <td>365.348755</td>\n",
              "    </tr>\n",
              "    <tr>\n",
              "      <th>4</th>\n",
              "      <td>365.393463</td>\n",
              "    </tr>\n",
              "  </tbody>\n",
              "</table>\n",
              "</div>"
            ],
            "text/plain": [
              "         Open\n",
              "0  357.385559\n",
              "1  360.122742\n",
              "2  362.313507\n",
              "3  365.348755\n",
              "4  365.393463"
            ]
          },
          "metadata": {
            "tags": []
          },
          "execution_count": 5
        }
      ]
    },
    {
      "cell_type": "code",
      "metadata": {
        "id": "e20m5pPfc0X4",
        "outputId": "954de4e6-0a89-4133-d37d-f7cbade179d7",
        "colab": {
          "base_uri": "https://localhost:8080/",
          "height": 136
        }
      },
      "source": [
        "from sklearn.preprocessing import MinMaxScaler\n",
        "sc=MinMaxScaler(feature_range=(0,1))\n",
        "training_scaled=sc.fit_transform(trainset)\n",
        "\n",
        "training_scaled"
      ],
      "execution_count": 8,
      "outputs": [
        {
          "output_type": "execute_result",
          "data": {
            "text/plain": [
              "array([[0.01011148],\n",
              "       [0.01388614],\n",
              "       [0.01690727],\n",
              "       ...,\n",
              "       [0.97543954],\n",
              "       [0.9674549 ],\n",
              "       [0.96072522]])"
            ]
          },
          "metadata": {
            "tags": []
          },
          "execution_count": 8
        }
      ]
    },
    {
      "cell_type": "markdown",
      "metadata": {
        "id": "dLI_H31GeZwY"
      },
      "source": [
        "## **Preprocessing Text**"
      ]
    },
    {
      "cell_type": "code",
      "metadata": {
        "id": "uPR5M2b5c0fC"
      },
      "source": [
        "x_train=[]\n",
        "y_train=[]\n",
        "\n",
        "for i in range(60,1259):\n",
        "  x_train.append(training_scaled[i-60:i,0])\n",
        "  y_train.append(training_scaled[i,0])\n",
        "\n",
        "x_train,y_train=np.array(x_train),np.array(y_train)"
      ],
      "execution_count": 9,
      "outputs": []
    },
    {
      "cell_type": "code",
      "metadata": {
        "id": "unweD89lc0jf",
        "outputId": "651dca1f-3ac9-4312-c0b7-78458251aedc",
        "colab": {
          "base_uri": "https://localhost:8080/",
          "height": 34
        }
      },
      "source": [
        "x_train.shape"
      ],
      "execution_count": 13,
      "outputs": [
        {
          "output_type": "execute_result",
          "data": {
            "text/plain": [
              "(1199, 60)"
            ]
          },
          "metadata": {
            "tags": []
          },
          "execution_count": 13
        }
      ]
    },
    {
      "cell_type": "code",
      "metadata": {
        "id": "eRLVpIAFc0dG",
        "outputId": "6aafd1a2-e954-43c2-cdef-0eaace6359bd",
        "colab": {
          "base_uri": "https://localhost:8080/",
          "height": 34
        }
      },
      "source": [
        "x_train=np.reshape(x_train, (x_train.shape[0],x_train.shape[1],1))\n",
        "\n",
        "print(x_train.shape)"
      ],
      "execution_count": 14,
      "outputs": [
        {
          "output_type": "stream",
          "text": [
            "(1199, 60, 1)\n"
          ],
          "name": "stdout"
        }
      ]
    },
    {
      "cell_type": "markdown",
      "metadata": {
        "id": "94zQJ2WR5iod"
      },
      "source": [
        "## Model preparations "
      ]
    },
    {
      "cell_type": "code",
      "metadata": {
        "id": "I7KXFAKjc0a7"
      },
      "source": [
        "from keras.models import Sequential\n",
        "from keras.layers import Dense \n",
        "from keras.layers import LSTM \n",
        "from keras.layers import Dropout "
      ],
      "execution_count": 17,
      "outputs": []
    },
    {
      "cell_type": "code",
      "metadata": {
        "id": "sOGAMNOc43ds"
      },
      "source": [
        "model=Sequential()\n",
        "\n",
        "model.add(LSTM(units=50,return_sequences=True,input_shape=(x_train.shape[1],1)))\n",
        "\n",
        "model.add(Dropout(0.2))\n",
        "\n",
        "model.add(LSTM(units=50,return_sequences=True))\n",
        "\n",
        "model.add(Dropout(0.2))\n",
        "\n",
        "model.add(LSTM(units=50,return_sequences=True))\n",
        "\n",
        "model.add(Dropout(0.2))\n",
        "\n",
        "model.add(LSTM(units=50))\n",
        "\n",
        "model.add(Dropout(0.2))\n",
        "\n",
        "model.add(Dense(units=1))"
      ],
      "execution_count": 19,
      "outputs": []
    },
    {
      "cell_type": "code",
      "metadata": {
        "id": "a0kkH8Iv8cAc"
      },
      "source": [
        "model.compile(optimizer='adam',loss='mean_squared_error')"
      ],
      "execution_count": 20,
      "outputs": []
    },
    {
      "cell_type": "code",
      "metadata": {
        "id": "Yo3hoZx38vQu",
        "outputId": "58a8a9b9-af80-4a93-8410-c574faf603a0",
        "colab": {
          "base_uri": "https://localhost:8080/",
          "height": 1000
        }
      },
      "source": [
        "model.fit(x_train,y_train,epochs=100,batch_size=32)"
      ],
      "execution_count": 22,
      "outputs": [
        {
          "output_type": "stream",
          "text": [
            "Epoch 1/100\n",
            "38/38 [==============================] - 5s 123ms/step - loss: 0.0011\n",
            "Epoch 2/100\n",
            "38/38 [==============================] - 5s 126ms/step - loss: 9.1669e-04\n",
            "Epoch 3/100\n",
            "38/38 [==============================] - 5s 123ms/step - loss: 9.5572e-04\n",
            "Epoch 4/100\n",
            "38/38 [==============================] - 5s 126ms/step - loss: 0.0010\n",
            "Epoch 5/100\n",
            "38/38 [==============================] - 5s 124ms/step - loss: 0.0010\n",
            "Epoch 6/100\n",
            "38/38 [==============================] - 5s 125ms/step - loss: 9.5545e-04\n",
            "Epoch 7/100\n",
            "38/38 [==============================] - 5s 124ms/step - loss: 0.0011\n",
            "Epoch 8/100\n",
            "38/38 [==============================] - 5s 125ms/step - loss: 0.0010\n",
            "Epoch 9/100\n",
            "38/38 [==============================] - 5s 126ms/step - loss: 9.6328e-04\n",
            "Epoch 10/100\n",
            "38/38 [==============================] - 5s 125ms/step - loss: 9.9678e-04\n",
            "Epoch 11/100\n",
            "38/38 [==============================] - 5s 125ms/step - loss: 9.4162e-04\n",
            "Epoch 12/100\n",
            "38/38 [==============================] - 5s 125ms/step - loss: 0.0011\n",
            "Epoch 13/100\n",
            "38/38 [==============================] - 5s 124ms/step - loss: 0.0011\n",
            "Epoch 14/100\n",
            "38/38 [==============================] - 5s 125ms/step - loss: 0.0010\n",
            "Epoch 15/100\n",
            "38/38 [==============================] - 5s 123ms/step - loss: 9.2864e-04\n",
            "Epoch 16/100\n",
            "38/38 [==============================] - 5s 124ms/step - loss: 9.6749e-04\n",
            "Epoch 17/100\n",
            "38/38 [==============================] - 5s 124ms/step - loss: 9.2250e-04\n",
            "Epoch 18/100\n",
            "38/38 [==============================] - 5s 124ms/step - loss: 9.5541e-04\n",
            "Epoch 19/100\n",
            "38/38 [==============================] - 5s 123ms/step - loss: 9.5244e-04\n",
            "Epoch 20/100\n",
            "38/38 [==============================] - 5s 125ms/step - loss: 0.0010\n",
            "Epoch 21/100\n",
            "38/38 [==============================] - 5s 123ms/step - loss: 8.8660e-04\n",
            "Epoch 22/100\n",
            "38/38 [==============================] - 5s 124ms/step - loss: 9.9167e-04\n",
            "Epoch 23/100\n",
            "38/38 [==============================] - 5s 125ms/step - loss: 0.0011\n",
            "Epoch 24/100\n",
            "38/38 [==============================] - 5s 126ms/step - loss: 0.0010\n",
            "Epoch 25/100\n",
            "38/38 [==============================] - 5s 123ms/step - loss: 8.5303e-04\n",
            "Epoch 26/100\n",
            "38/38 [==============================] - 5s 124ms/step - loss: 8.9995e-04\n",
            "Epoch 27/100\n",
            "38/38 [==============================] - 5s 124ms/step - loss: 9.4892e-04\n",
            "Epoch 28/100\n",
            "38/38 [==============================] - 5s 124ms/step - loss: 9.4283e-04\n",
            "Epoch 29/100\n",
            "38/38 [==============================] - 5s 124ms/step - loss: 8.9079e-04\n",
            "Epoch 30/100\n",
            "38/38 [==============================] - 5s 124ms/step - loss: 8.2363e-04\n",
            "Epoch 31/100\n",
            "38/38 [==============================] - 5s 125ms/step - loss: 7.4445e-04\n",
            "Epoch 32/100\n",
            "38/38 [==============================] - 5s 125ms/step - loss: 9.2830e-04\n",
            "Epoch 33/100\n",
            "38/38 [==============================] - 5s 123ms/step - loss: 8.5530e-04\n",
            "Epoch 34/100\n",
            "38/38 [==============================] - 5s 124ms/step - loss: 9.0618e-04\n",
            "Epoch 35/100\n",
            "38/38 [==============================] - 5s 124ms/step - loss: 9.7252e-04\n",
            "Epoch 36/100\n",
            "38/38 [==============================] - 5s 127ms/step - loss: 8.1492e-04\n",
            "Epoch 37/100\n",
            "38/38 [==============================] - 5s 123ms/step - loss: 8.6080e-04\n",
            "Epoch 38/100\n",
            "38/38 [==============================] - 5s 130ms/step - loss: 8.2985e-04\n",
            "Epoch 39/100\n",
            "38/38 [==============================] - 5s 132ms/step - loss: 8.4586e-04\n",
            "Epoch 40/100\n",
            "38/38 [==============================] - 5s 126ms/step - loss: 8.6775e-04\n",
            "Epoch 41/100\n",
            "38/38 [==============================] - 5s 124ms/step - loss: 9.1051e-04\n",
            "Epoch 42/100\n",
            "38/38 [==============================] - 5s 123ms/step - loss: 7.8546e-04\n",
            "Epoch 43/100\n",
            "38/38 [==============================] - 5s 124ms/step - loss: 8.1625e-04\n",
            "Epoch 44/100\n",
            "38/38 [==============================] - 5s 123ms/step - loss: 7.7727e-04\n",
            "Epoch 45/100\n",
            "38/38 [==============================] - 5s 124ms/step - loss: 9.0471e-04\n",
            "Epoch 46/100\n",
            "38/38 [==============================] - 5s 126ms/step - loss: 8.7363e-04\n",
            "Epoch 47/100\n",
            "38/38 [==============================] - 5s 125ms/step - loss: 7.5738e-04\n",
            "Epoch 48/100\n",
            "38/38 [==============================] - 5s 123ms/step - loss: 8.7526e-04\n",
            "Epoch 49/100\n",
            "38/38 [==============================] - 5s 123ms/step - loss: 0.0010\n",
            "Epoch 50/100\n",
            "38/38 [==============================] - 5s 124ms/step - loss: 9.8232e-04\n",
            "Epoch 51/100\n",
            "38/38 [==============================] - 5s 127ms/step - loss: 7.6266e-04\n",
            "Epoch 52/100\n",
            "38/38 [==============================] - 5s 129ms/step - loss: 8.1272e-04\n",
            "Epoch 53/100\n",
            "38/38 [==============================] - 5s 127ms/step - loss: 7.9645e-04\n",
            "Epoch 54/100\n",
            "38/38 [==============================] - 5s 124ms/step - loss: 7.8750e-04\n",
            "Epoch 55/100\n",
            "38/38 [==============================] - 5s 127ms/step - loss: 7.1422e-04\n",
            "Epoch 56/100\n",
            "38/38 [==============================] - 5s 124ms/step - loss: 8.0355e-04\n",
            "Epoch 57/100\n",
            "38/38 [==============================] - 5s 126ms/step - loss: 8.2303e-04\n",
            "Epoch 58/100\n",
            "38/38 [==============================] - 5s 124ms/step - loss: 7.4490e-04\n",
            "Epoch 59/100\n",
            "38/38 [==============================] - 5s 123ms/step - loss: 7.8082e-04\n",
            "Epoch 60/100\n",
            "38/38 [==============================] - 5s 122ms/step - loss: 7.8937e-04\n",
            "Epoch 61/100\n",
            "38/38 [==============================] - 5s 127ms/step - loss: 8.9749e-04\n",
            "Epoch 62/100\n",
            "38/38 [==============================] - 5s 123ms/step - loss: 7.1759e-04\n",
            "Epoch 63/100\n",
            "38/38 [==============================] - 5s 125ms/step - loss: 8.0158e-04\n",
            "Epoch 64/100\n",
            "38/38 [==============================] - 5s 124ms/step - loss: 7.0762e-04\n",
            "Epoch 65/100\n",
            "38/38 [==============================] - 5s 124ms/step - loss: 7.6051e-04\n",
            "Epoch 66/100\n",
            "38/38 [==============================] - 5s 125ms/step - loss: 7.8358e-04\n",
            "Epoch 67/100\n",
            "38/38 [==============================] - 5s 124ms/step - loss: 7.1496e-04\n",
            "Epoch 68/100\n",
            "38/38 [==============================] - 5s 126ms/step - loss: 7.4708e-04\n",
            "Epoch 69/100\n",
            "38/38 [==============================] - 5s 125ms/step - loss: 7.9630e-04\n",
            "Epoch 70/100\n",
            "38/38 [==============================] - 5s 126ms/step - loss: 7.5045e-04\n",
            "Epoch 71/100\n",
            "38/38 [==============================] - 5s 127ms/step - loss: 7.0032e-04\n",
            "Epoch 72/100\n",
            "38/38 [==============================] - 5s 128ms/step - loss: 7.4031e-04\n",
            "Epoch 73/100\n",
            "38/38 [==============================] - 5s 126ms/step - loss: 7.7813e-04\n",
            "Epoch 74/100\n",
            "38/38 [==============================] - 5s 126ms/step - loss: 6.8458e-04\n",
            "Epoch 75/100\n",
            "38/38 [==============================] - 5s 124ms/step - loss: 7.3450e-04\n",
            "Epoch 76/100\n",
            "38/38 [==============================] - 5s 126ms/step - loss: 8.3399e-04\n",
            "Epoch 77/100\n",
            "38/38 [==============================] - 5s 125ms/step - loss: 8.5199e-04\n",
            "Epoch 78/100\n",
            "38/38 [==============================] - 5s 123ms/step - loss: 7.6159e-04\n",
            "Epoch 79/100\n",
            "38/38 [==============================] - 5s 125ms/step - loss: 8.0128e-04\n",
            "Epoch 80/100\n",
            "38/38 [==============================] - 5s 125ms/step - loss: 8.4585e-04\n",
            "Epoch 81/100\n",
            "38/38 [==============================] - 5s 126ms/step - loss: 7.2413e-04\n",
            "Epoch 82/100\n",
            "38/38 [==============================] - 5s 128ms/step - loss: 7.7449e-04\n",
            "Epoch 83/100\n",
            "38/38 [==============================] - 5s 126ms/step - loss: 8.3202e-04\n",
            "Epoch 84/100\n",
            "38/38 [==============================] - 5s 127ms/step - loss: 6.8066e-04\n",
            "Epoch 85/100\n",
            "38/38 [==============================] - 5s 125ms/step - loss: 7.6144e-04\n",
            "Epoch 86/100\n",
            "38/38 [==============================] - 5s 127ms/step - loss: 8.0057e-04\n",
            "Epoch 87/100\n",
            "38/38 [==============================] - 5s 126ms/step - loss: 7.4945e-04\n",
            "Epoch 88/100\n",
            "38/38 [==============================] - 5s 126ms/step - loss: 7.2554e-04\n",
            "Epoch 89/100\n",
            "38/38 [==============================] - 5s 126ms/step - loss: 7.2102e-04\n",
            "Epoch 90/100\n",
            "38/38 [==============================] - 5s 123ms/step - loss: 6.8788e-04\n",
            "Epoch 91/100\n",
            "38/38 [==============================] - 5s 125ms/step - loss: 8.0504e-04\n",
            "Epoch 92/100\n",
            "38/38 [==============================] - 5s 125ms/step - loss: 8.5190e-04\n",
            "Epoch 93/100\n",
            "38/38 [==============================] - 5s 126ms/step - loss: 7.4571e-04\n",
            "Epoch 94/100\n",
            "38/38 [==============================] - 5s 126ms/step - loss: 7.4863e-04\n",
            "Epoch 95/100\n",
            "38/38 [==============================] - 5s 127ms/step - loss: 7.1764e-04\n",
            "Epoch 96/100\n",
            "38/38 [==============================] - 5s 129ms/step - loss: 6.5681e-04\n",
            "Epoch 97/100\n",
            "38/38 [==============================] - 5s 126ms/step - loss: 7.2442e-04\n",
            "Epoch 98/100\n",
            "38/38 [==============================] - 5s 129ms/step - loss: 7.3340e-04\n",
            "Epoch 99/100\n",
            "38/38 [==============================] - 5s 124ms/step - loss: 7.5250e-04\n",
            "Epoch 100/100\n",
            "38/38 [==============================] - 5s 126ms/step - loss: 7.0319e-04\n"
          ],
          "name": "stdout"
        },
        {
          "output_type": "execute_result",
          "data": {
            "text/plain": [
              "<tensorflow.python.keras.callbacks.History at 0x7f7382bb75f8>"
            ]
          },
          "metadata": {
            "tags": []
          },
          "execution_count": 22
        }
      ]
    },
    {
      "cell_type": "code",
      "metadata": {
        "id": "FxrnR6mb8wiU"
      },
      "source": [
        "dataset_test=pd.read_csv('testset.csv')\n",
        "\n",
        "real_stock_price=dataset_test.iloc[:,1:2].values"
      ],
      "execution_count": 23,
      "outputs": []
    },
    {
      "cell_type": "code",
      "metadata": {
        "id": "889tPgWm8wpW",
        "outputId": "1568528e-352b-4e3c-df2c-e40d2466d759",
        "colab": {
          "base_uri": "https://localhost:8080/",
          "height": 221
        }
      },
      "source": [
        "dataset_total=pd.concat((dataset_train['Open'],dataset_test['Open']),axis=0)\n",
        "\n",
        "dataset_total"
      ],
      "execution_count": 24,
      "outputs": [
        {
          "output_type": "execute_result",
          "data": {
            "text/plain": [
              "0       357.385559\n",
              "1       360.122742\n",
              "2       362.313507\n",
              "3       365.348755\n",
              "4       365.393463\n",
              "          ...     \n",
              "120    1143.599976\n",
              "121    1128.000000\n",
              "122    1121.339966\n",
              "123    1102.089966\n",
              "124    1120.000000\n",
              "Name: Open, Length: 1384, dtype: float64"
            ]
          },
          "metadata": {
            "tags": []
          },
          "execution_count": 24
        }
      ]
    },
    {
      "cell_type": "code",
      "metadata": {
        "id": "gSedenv_8wyP",
        "outputId": "4d441b80-b587-49ae-d6dc-be0869733866",
        "colab": {
          "base_uri": "https://localhost:8080/",
          "height": 646
        }
      },
      "source": [
        "inputs = dataset_total[len(dataset_total) - len(dataset_test)-60:].values\n",
        "inputs"
      ],
      "execution_count": 29,
      "outputs": [
        {
          "output_type": "execute_result",
          "data": {
            "text/plain": [
              "array([ 955.48999 ,  966.700012,  980.      ,  980.      ,  973.719971,\n",
              "        987.450012,  992.      ,  992.099976,  990.289978,  991.77002 ,\n",
              "        986.      ,  989.440002,  989.52002 ,  970.      ,  968.369995,\n",
              "        980.      , 1009.190002, 1014.      , 1015.219971, 1017.210022,\n",
              "       1021.76001 , 1022.109985, 1028.98999 , 1027.27002 , 1030.52002 ,\n",
              "       1033.98999 , 1026.459961, 1023.419983, 1022.590027, 1019.210022,\n",
              "       1022.52002 , 1034.01001 , 1020.26001 , 1023.309998, 1035.      ,\n",
              "       1035.869995, 1040.      , 1055.089966, 1042.680054, 1022.369995,\n",
              "       1015.799988, 1012.659973,  995.940002, 1001.5     , 1020.429993,\n",
              "       1037.48999 , 1035.5     , 1039.630005, 1046.119995, 1045.      ,\n",
              "       1054.609985, 1066.079956, 1075.199951, 1071.780029, 1064.949951,\n",
              "       1061.109985, 1058.069946, 1057.390015, 1051.599976, 1046.719971,\n",
              "       1048.339966, 1064.310059, 1088.      , 1094.      , 1102.22998 ,\n",
              "       1109.400024, 1097.099976, 1106.300049, 1102.410034, 1132.51001 ,\n",
              "       1126.219971, 1131.410034, 1131.829956, 1137.48999 , 1159.849976,\n",
              "       1177.329956, 1172.530029, 1175.079956, 1176.47998 , 1167.829956,\n",
              "       1170.569946, 1162.609985, 1122.      , 1090.599976, 1027.180054,\n",
              "       1081.540039, 1055.410034, 1017.25    , 1048.      , 1045.      ,\n",
              "       1048.949951, 1079.069946, 1088.410034, 1090.569946, 1106.469971,\n",
              "       1116.189941, 1112.640015, 1127.800049, 1141.23999 , 1123.030029,\n",
              "       1107.869995, 1053.079956, 1075.140015, 1099.219971, 1089.189941,\n",
              "       1115.319946, 1136.      , 1163.849976, 1170.      , 1145.209961,\n",
              "       1149.959961, 1154.140015, 1120.01001 , 1099.      , 1092.73999 ,\n",
              "       1081.880005, 1047.030029, 1046.      , 1063.      ,  998.      ,\n",
              "       1011.630005, 1022.820007, 1013.909973,  993.409973, 1041.329956,\n",
              "       1020.      , 1016.799988, 1026.439941, 1027.98999 , 1025.040039,\n",
              "       1040.880005, 1037.      , 1051.369995, 1077.430054, 1069.400024,\n",
              "       1082.      , 1077.859985, 1052.      , 1025.52002 , 1029.51001 ,\n",
              "       1046.      , 1030.01001 , 1013.659973, 1028.099976, 1019.      ,\n",
              "       1016.900024, 1049.22998 , 1058.540039, 1058.099976, 1086.030029,\n",
              "       1093.599976, 1100.      , 1090.      , 1077.310059, 1079.890015,\n",
              "       1061.859985, 1074.060059, 1083.560059, 1065.130005, 1079.      ,\n",
              "       1079.02002 , 1064.890015, 1063.030029, 1067.560059, 1099.349976,\n",
              "       1122.329956, 1140.98999 , 1142.170044, 1131.319946, 1118.180054,\n",
              "       1118.599976, 1131.069946, 1141.119995, 1143.849976, 1148.859985,\n",
              "       1143.650024, 1158.5     , 1175.310059, 1174.849976, 1159.140015,\n",
              "       1143.599976, 1128.      , 1121.339966, 1102.089966, 1120.      ])"
            ]
          },
          "metadata": {
            "tags": []
          },
          "execution_count": 29
        }
      ]
    },
    {
      "cell_type": "code",
      "metadata": {
        "id": "6lwc6Xwh8w3L",
        "outputId": "dd005951-fa70-406e-c74f-1cc3c2801f9f",
        "colab": {
          "base_uri": "https://localhost:8080/",
          "height": 34
        }
      },
      "source": [
        "inputs=inputs.reshape(-1,1)\n",
        "\n",
        "inputs.shape"
      ],
      "execution_count": 30,
      "outputs": [
        {
          "output_type": "execute_result",
          "data": {
            "text/plain": [
              "(185, 1)"
            ]
          },
          "metadata": {
            "tags": []
          },
          "execution_count": 30
        }
      ]
    },
    {
      "cell_type": "code",
      "metadata": {
        "id": "az0NFuD58w73",
        "outputId": "35961364-ec6d-434d-eda8-a5a56b0435fd",
        "colab": {
          "base_uri": "https://localhost:8080/",
          "height": 34
        }
      },
      "source": [
        "inputs = sc.transform(inputs)\n",
        "inputs.shape"
      ],
      "execution_count": 31,
      "outputs": [
        {
          "output_type": "execute_result",
          "data": {
            "text/plain": [
              "(185, 1)"
            ]
          },
          "metadata": {
            "tags": []
          },
          "execution_count": 31
        }
      ]
    },
    {
      "cell_type": "code",
      "metadata": {
        "id": "JeHMoCUf8wvo"
      },
      "source": [
        "x_test = []\n",
        "for i in range(60,185):\n",
        "    x_test.append(inputs[i-60:i,0])"
      ],
      "execution_count": 32,
      "outputs": []
    },
    {
      "cell_type": "code",
      "metadata": {
        "id": "Rhfb5ZgO8wtH",
        "outputId": "f485d3e1-0ee0-4c1d-9487-9ce553b093d6",
        "colab": {
          "base_uri": "https://localhost:8080/",
          "height": 34
        }
      },
      "source": [
        "x_test = np.array(x_test)\n",
        "x_test.shape"
      ],
      "execution_count": 33,
      "outputs": [
        {
          "output_type": "execute_result",
          "data": {
            "text/plain": [
              "(125, 60)"
            ]
          },
          "metadata": {
            "tags": []
          },
          "execution_count": 33
        }
      ]
    },
    {
      "cell_type": "code",
      "metadata": {
        "id": "sZpl5ILqElyx",
        "outputId": "32a466ce-eb44-4934-95d5-7a33d8db21b0",
        "colab": {
          "base_uri": "https://localhost:8080/",
          "height": 34
        }
      },
      "source": [
        "x_test = np.reshape(x_test, (x_test.shape[0],x_test.shape[1],1))\n",
        "x_test.shape"
      ],
      "execution_count": 35,
      "outputs": [
        {
          "output_type": "execute_result",
          "data": {
            "text/plain": [
              "(125, 60, 1)"
            ]
          },
          "metadata": {
            "tags": []
          },
          "execution_count": 35
        }
      ]
    },
    {
      "cell_type": "code",
      "metadata": {
        "id": "jdDeljQeEoTF"
      },
      "source": [
        "predicted_price=model.predict(x_test)"
      ],
      "execution_count": 36,
      "outputs": []
    },
    {
      "cell_type": "code",
      "metadata": {
        "id": "TctLof08Eu71",
        "outputId": "4abd84bc-82cd-4b7f-c5b4-1300c5a91d1b",
        "colab": {
          "base_uri": "https://localhost:8080/",
          "height": 1000
        }
      },
      "source": [
        "predicted_price=sc.inverse_transform(predicted_price)\n",
        "\n",
        "predicted_price"
      ],
      "execution_count": 37,
      "outputs": [
        {
          "output_type": "execute_result",
          "data": {
            "text/plain": [
              "array([[1054.5847],\n",
              "       [1054.2286],\n",
              "       [1060.9823],\n",
              "       [1073.8494],\n",
              "       [1081.5006],\n",
              "       [1086.7972],\n",
              "       [1091.6693],\n",
              "       [1089.3823],\n",
              "       [1091.8744],\n",
              "       [1092.9423],\n",
              "       [1105.2223],\n",
              "       [1109.4236],\n",
              "       [1112.1848],\n",
              "       [1113.9694],\n",
              "       [1117.361 ],\n",
              "       [1127.702 ],\n",
              "       [1139.1989],\n",
              "       [1142.4696],\n",
              "       [1144.2589],\n",
              "       [1146.3346],\n",
              "       [1145.2186],\n",
              "       [1146.1786],\n",
              "       [1144.9319],\n",
              "       [1130.7501],\n",
              "       [1112.4619],\n",
              "       [1081.9706],\n",
              "       [1088.413 ],\n",
              "       [1086.0624],\n",
              "       [1066.9955],\n",
              "       [1067.376 ],\n",
              "       [1068.2877],\n",
              "       [1068.2589],\n",
              "       [1078.5507],\n",
              "       [1086.2252],\n",
              "       [1088.5012],\n",
              "       [1094.3103],\n",
              "       [1100.7012],\n",
              "       [1101.9603],\n",
              "       [1107.8119],\n",
              "       [1116.1954],\n",
              "       [1113.475 ],\n",
              "       [1105.8751],\n",
              "       [1082.7251],\n",
              "       [1080.3928],\n",
              "       [1092.6366],\n",
              "       [1094.4844],\n",
              "       [1102.742 ],\n",
              "       [1114.0925],\n",
              "       [1128.5028],\n",
              "       [1136.4231],\n",
              "       [1130.3246],\n",
              "       [1128.7042],\n",
              "       [1131.61  ],\n",
              "       [1122.0269],\n",
              "       [1109.3649],\n",
              "       [1102.4589],\n",
              "       [1096.8547],\n",
              "       [1081.353 ],\n",
              "       [1072.6337],\n",
              "       [1076.4758],\n",
              "       [1053.369 ],\n",
              "       [1043.518 ],\n",
              "       [1046.0834],\n",
              "       [1043.4813],\n",
              "       [1031.4818],\n",
              "       [1044.1345],\n",
              "       [1042.5016],\n",
              "       [1036.8165],\n",
              "       [1037.501 ],\n",
              "       [1038.8431],\n",
              "       [1037.5726],\n",
              "       [1042.9028],\n",
              "       [1043.9436],\n",
              "       [1049.3119],\n",
              "       [1062.5819],\n",
              "       [1065.1776],\n",
              "       [1069.7948],\n",
              "       [1070.7845],\n",
              "       [1060.934 ],\n",
              "       [1045.5886],\n",
              "       [1041.415 ],\n",
              "       [1048.8181],\n",
              "       [1046.2473],\n",
              "       [1036.3969],\n",
              "       [1037.3545],\n",
              "       [1035.3375],\n",
              "       [1032.5651],\n",
              "       [1044.5914],\n",
              "       [1054.4235],\n",
              "       [1056.9203],\n",
              "       [1068.0945],\n",
              "       [1076.6915],\n",
              "       [1082.3307],\n",
              "       [1080.8237],\n",
              "       [1075.2173],\n",
              "       [1074.6621],\n",
              "       [1068.9896],\n",
              "       [1071.3999],\n",
              "       [1077.6266],\n",
              "       [1073.1924],\n",
              "       [1075.3984],\n",
              "       [1077.5052],\n",
              "       [1072.6913],\n",
              "       [1069.2004],\n",
              "       [1070.151 ],\n",
              "       [1083.6969],\n",
              "       [1098.9474],\n",
              "       [1111.4631],\n",
              "       [1116.3387],\n",
              "       [1113.8707],\n",
              "       [1108.2349],\n",
              "       [1107.1128],\n",
              "       [1112.9713],\n",
              "       [1120.2637],\n",
              "       [1124.4097],\n",
              "       [1127.6852],\n",
              "       [1127.4863],\n",
              "       [1132.81  ],\n",
              "       [1142.0541],\n",
              "       [1146.2562],\n",
              "       [1142.2943],\n",
              "       [1135.0071],\n",
              "       [1127.151 ],\n",
              "       [1122.3011],\n",
              "       [1114.2085]], dtype=float32)"
            ]
          },
          "metadata": {
            "tags": []
          },
          "execution_count": 37
        }
      ]
    },
    {
      "cell_type": "code",
      "metadata": {
        "id": "vwULicWxE5Y8",
        "outputId": "ef311dfe-c5b9-40b5-e4fb-f9d357aa2bd7",
        "colab": {
          "base_uri": "https://localhost:8080/",
          "height": 295
        }
      },
      "source": [
        "plt.plot(real_stock_price,color = 'red', label = 'Real Price')\n",
        "plt.plot(predicted_price, color = 'blue', label = 'Predicted Price')\n",
        "plt.title('Google Stock Price Prediction')\n",
        "plt.xlabel('Time')\n",
        "plt.ylabel('Google Stock Price')\n",
        "plt.legend()\n",
        "plt.show()"
      ],
      "execution_count": 38,
      "outputs": [
        {
          "output_type": "display_data",
          "data": {
            "image/png": "[encoded data removed]",
            "text/plain": [
              "<Figure size 432x288 with 1 Axes>"
            ]
          },
          "metadata": {
            "tags": [],
            "needs_background": "light"
          }
        }
      ]
    },
    {
      "cell_type": "code",
      "metadata": {
        "id": "mBjklfWkFALL"
      },
      "source": [
        ""
      ],
      "execution_count": null,
      "outputs": []
    }
  ]
}